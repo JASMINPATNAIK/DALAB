{
  "nbformat": 4,
  "nbformat_minor": 0,
  "metadata": {
    "colab": {
      "name": "ASSIGNMENT FOR R - PROGRAMMING LANGUAGE",
      "provenance": [],
      "authorship_tag": "ABX9TyMFoRM0dV39Vho7nkU3fvML",
      "include_colab_link": true
    },
    "kernelspec": {
      "name": "python3",
      "display_name": "Python 3"
    },
    "language_info": {
      "name": "python"
    }
  },
  "cells": [
    {
      "cell_type": "markdown",
      "metadata": {
        "id": "view-in-github",
        "colab_type": "text"
      },
      "source": [
        "<a href=\"https://colab.research.google.com/github/JASMINPATNAIK/DALAB/blob/main/ASSIGNMENT_FOR_R_PROGRAMMING_LANGUAGE.ipynb\" target=\"_parent\"><img src=\"https://colab.research.google.com/assets/colab-badge.svg\" alt=\"Open In Colab\"/></a>"
      ]
    },
    {
      "cell_type": "code",
      "metadata": {
        "colab": {
          "base_uri": "https://localhost:8080/",
          "height": 129
        },
        "id": "dmiD9Xj0erw4",
        "outputId": "91042ce8-5839-4056-85cc-a11e9e0b43b9"
      },
      "source": [
        "euler <- function(n) {\n",
        "  if (n==1) return(NULL)\n",
        "  if (n==2) return(n)\n",
        "  l <- 2:n\n",
        "  i <- 1\n",
        "  p <- 2\n",
        "  while (p^2<=n) {\n",
        "    l <- l[l==p | l%%p!=0]\n",
        "    i <- i+1 \n",
        "    p <- l[i]\n",
        "  }\n",
        "  return(l)\n",
        "}\n",
        "\n",
        "prime.factors <- function (n) {\n",
        "  factors <- c() \n",
        "  primes <- esieve(floor(sqrt(n))) \n",
        "  d <- which(n%%primes == 0) \n",
        "  if (length(d) == 0) \n",
        "    return(n)\n",
        "  for (q in primes[d]) { \n",
        "    while (n%%q == 0) { \n",
        "      factors <- c(factors, q)\n",
        "      n <- n/q } } \n",
        "  if (n > 1) factors <- c(factors, n)\n",
        "  return(factors)\n",
        "}\n",
        "\n",
        "print(max(prime.factors(13195)))"
      ],
      "execution_count": 1,
      "outputs": [
        {
          "output_type": "error",
          "ename": "SyntaxError",
          "evalue": "ignored",
          "traceback": [
            "\u001b[0;36m  File \u001b[0;32m\"<ipython-input-1-09fc5718ec9e>\"\u001b[0;36m, line \u001b[0;32m1\u001b[0m\n\u001b[0;31m    euler <- function(n) {\u001b[0m\n\u001b[0m                         ^\u001b[0m\n\u001b[0;31mSyntaxError\u001b[0m\u001b[0;31m:\u001b[0m invalid syntax\n"
          ]
        }
      ]
    },
    {
      "cell_type": "code",
      "metadata": {
        "colab": {
          "base_uri": "https://localhost:8080/"
        },
        "id": "elP2M-ptfKap",
        "outputId": "81798585-c3e2-42ea-b48d-11d98d48203e"
      },
      "source": [
        "sum=0;\n",
        "sq=0;\n",
        "res = 0;\n",
        "n = 10;\n",
        "\n",
        "sum = n*(n+1)/2;\n",
        "sq=(n*(n+1)*(2*n+1))/6;\n",
        "res=sum*sum-sq;\n",
        "print(res)"
      ],
      "execution_count": 2,
      "outputs": [
        {
          "output_type": "stream",
          "text": [
            "2640.0\n"
          ],
          "name": "stdout"
        }
      ]
    },
    {
      "cell_type": "code",
      "metadata": {
        "colab": {
          "base_uri": "https://localhost:8080/",
          "height": 129
        },
        "id": "XgewJzB_fd79",
        "outputId": "d105e3ae-6782-43ab-b057-e6be8d9eae64"
      },
      "source": [
        "{\n",
        "  n = as.integer(readline(prompt = \"Enter a number :\"))\n",
        "  \n",
        "  rev = 0\n",
        "  num = n\n",
        "  \n",
        "  while (n > 0) {\n",
        "    r = n %% 10\n",
        "    rev = rev * 10 + r\n",
        "    n = n %/% 10}\n",
        "  \n",
        "  if (rev == num)\n",
        "  {print(paste(\"Number is palindrome :\", rev))\n",
        "  }\n",
        "  else{print(paste(\"Number is not palindrome :\", rev))}}"
      ],
      "execution_count": 4,
      "outputs": [
        {
          "output_type": "error",
          "ename": "SyntaxError",
          "evalue": "ignored",
          "traceback": [
            "\u001b[0;36m  File \u001b[0;32m\"<ipython-input-4-8058f2167dbc>\"\u001b[0;36m, line \u001b[0;32m2\u001b[0m\n\u001b[0;31m    n = as.integer(readline(prompt = \"Enter a number :\"))\u001b[0m\n\u001b[0m      ^\u001b[0m\n\u001b[0;31mSyntaxError\u001b[0m\u001b[0;31m:\u001b[0m invalid syntax\n"
          ]
        }
      ]
    },
    {
      "cell_type": "code",
      "metadata": {
        "id": "N19b_gP3frdr"
      },
      "source": [
        ""
      ],
      "execution_count": null,
      "outputs": []
    }
  ]
}